{
 "cells": [
  {
   "cell_type": "code",
   "execution_count": 0,
   "metadata": {
    "application/vnd.databricks.v1+cell": {
     "cellMetadata": {
      "byteLimit": 2048000,
      "rowLimit": 10000
     },
     "inputWidgets": {},
     "nuid": "097e5388-5dd8-4b74-b970-0348175ccf5c",
     "showTitle": false,
     "tableResultSettingsMap": {},
     "title": ""
    }
   },
   "outputs": [],
   "source": [
    "# Step 1: Create widgets for dynamic values\n",
    "dbutils.widgets.text(\"storage_accounts\", \"sadbw5\", \"Storage Account Names\")\n",
    "dbutils.widgets.text(\"container_names\", \"container1\", \"Container Names\")\n",
    "dbutils.widgets.text(\"credential_names\", \"dbrcredentials1\", \"Credential Names\")\n",
    "dbutils.widgets.text(\"location_names\", \"extlocation1\", \"External Location Names\")\n",
    "dbutils.widgets.text(\"access_connector_ids\", \"/subscriptions/11939925-8a3f-47a2-b68c-a6038b46bd4b/resourceGroups/pragati/providers/Microsoft.Databricks/accessConnectors/testconnector\", \"Access Connector ID\")\n",
    "#dbutils.widgets.text(\"catalog_names\", \"mycatalog1\", \"Comma-separated Catalog Names\")\n",
    "dbutils.widgets.text(\"division_codes\", \"prm\", \"Division Codes\")\n",
    "dbutils.widgets.text(\"application_names\", \"dbx360\", \"Application Names\")\n",
    "dbutils.widgets.text(\"environments\", \"dev\", \"Environment\")"
   ]
  },
  {
   "cell_type": "code",
   "execution_count": 0,
   "metadata": {
    "application/vnd.databricks.v1+cell": {
     "cellMetadata": {
      "byteLimit": 2048000,
      "rowLimit": 10000
     },
     "inputWidgets": {},
     "nuid": "a2257772-0be2-48e6-bbe7-f87e715a87c7",
     "showTitle": false,
     "tableResultSettingsMap": {},
     "title": ""
    }
   },
   "outputs": [],
   "source": [
    "# Step 2: Retrieve widget values\n",
    "storage_accounts = dbutils.widgets.get(\"storage_accounts\").split(\",\")  # Convert to a list\n",
    "container_names = dbutils.widgets.get(\"container_names\").split(\",\")  # Convert to a list\n",
    "credential_names = dbutils.widgets.get(\"credential_names\").split(\",\")  # Convert to a list\n",
    "location_names = dbutils.widgets.get(\"location_names\").split(\",\")  # Convert to a list\n",
    "managed_identity_ids = dbutils.widgets.get(\"access_connector_ids\").split(\",\")  # Convert to a list of Managed Identity IDs\n",
    "#catalog_names = dbutils.widgets.get(\"catalog_names\").split(\",\")  # Convert to a list\n",
    "division_codes = dbutils.widgets.get(\"division_codes\").split(\",\")\n",
    "application_names = dbutils.widgets.get(\"application_names\").split(\",\")\n",
    "environments = dbutils.widgets.get(\"environments\").split(\",\")"
   ]
  },
  {
   "cell_type": "code",
   "execution_count": 0,
   "metadata": {
    "application/vnd.databricks.v1+cell": {
     "cellMetadata": {
      "byteLimit": 2048000,
      "rowLimit": 10000
     },
     "inputWidgets": {},
     "nuid": "617622f4-b911-46cf-90ef-013717e8bbcb",
     "showTitle": false,
     "tableResultSettingsMap": {},
     "title": ""
    }
   },
   "outputs": [],
   "source": [
    "# print(\"Storage Accounts Length:\", len(storage_accounts))\n",
    "# print(\"Container Names Length:\", len(container_names))\n",
    "# print(\"Credential Names Length:\", len(credential_names))\n",
    "# print(\"Location Names Length:\", len(location_names))\n",
    "# print(\"Catalog Names Length:\", len(catalog_names))\n",
    "# print(\"Managed Identity IDs Length:\", len(managed_identity_ids))"
   ]
  },
  {
   "cell_type": "code",
   "execution_count": 0,
   "metadata": {
    "application/vnd.databricks.v1+cell": {
     "cellMetadata": {
      "byteLimit": 2048000,
      "rowLimit": 10000
     },
     "inputWidgets": {},
     "nuid": "04db3d6a-0a8e-4576-9e59-e0cfb215542d",
     "showTitle": false,
     "tableResultSettingsMap": {},
     "title": ""
    }
   },
   "outputs": [],
   "source": [
    "# Step 3: Validate if all lists have the same length\n",
    "# if not (len(storage_accounts) == len(container_names) == len(credential_names) == len(location_names) == len(catalog_names) == len(managed_identity_ids)):\n",
    "#     raise ValueError(\"Mismatch in the number of storage accounts, containers, credentials, external locations, catalogs, and managed identities. Ensure they match.\")\n",
    "if not (len(storage_accounts) == len(container_names) == len(credential_names) == len(location_names) == len(managed_identity_ids)) == len(division_codes) == len(application_names) == len(environments):\n",
    "    raise ValueError(\"Mismatch in the number of storage accounts, containers, credentials, external locations and managed identities. Ensure they match.\")"
   ]
  },
  {
   "cell_type": "code",
   "execution_count": 0,
   "metadata": {
    "application/vnd.databricks.v1+cell": {
     "cellMetadata": {
      "byteLimit": 2048000,
      "rowLimit": 10000
     },
     "inputWidgets": {},
     "nuid": "2c762b9f-87bb-4215-9b84-a17674d6da51",
     "showTitle": false,
     "tableResultSettingsMap": {},
     "title": ""
    }
   },
   "outputs": [],
   "source": [
    "# Step 4: Generate Catalog Names based on the combination of division, application, and environment\n",
    "catalog_names = []\n",
    "\n",
    "for division_code, application_name, environment in zip(division_codes, application_names, environments):\n",
    "\n",
    "    catalog_name = f\"{division_code.upper()}-{application_name}-{environment}\"\n",
    "    catalog_names.append(catalog_name)\n",
    "\n",
    "# Print out the constructed catalog names to verify\n",
    "print(\"Constructed Catalog Names:\", catalog_names)"
   ]
  },
  {
   "cell_type": "code",
   "execution_count": 0,
   "metadata": {
    "application/vnd.databricks.v1+cell": {
     "cellMetadata": {
      "byteLimit": 2048000,
      "rowLimit": 10000
     },
     "inputWidgets": {},
     "nuid": "e463bd33-d389-4050-a0d1-08d4f91e12ef",
     "showTitle": false,
     "tableResultSettingsMap": {},
     "title": ""
    }
   },
   "outputs": [],
   "source": [
    "# Step 5: Get Databricks instance and authentication token dynamically\n",
    "DATABRICKS_INSTANCE = \"https://\" + spark.conf.get(\"spark.databricks.workspaceUrl\")\n",
    "# Get authentication headers dynamically (No need for manual token)\n",
    "token = dbutils.notebook.entry_point.getDbutils().notebook().getContext().apiToken().get()\n",
    "headers = {\n",
    "    \"Authorization\": f\"Bearer {token}\",\n",
    "    \"Content-Type\": \"application/json\"\n",
    "}\n",
    "import requests\n",
    "import json"
   ]
  },
  {
   "cell_type": "code",
   "execution_count": 0,
   "metadata": {
    "application/vnd.databricks.v1+cell": {
     "cellMetadata": {
      "byteLimit": 2048000,
      "rowLimit": 10000
     },
     "inputWidgets": {},
     "nuid": "a467dc8f-4da4-403a-a8e4-a0eedb4d9904",
     "showTitle": false,
     "tableResultSettingsMap": {},
     "title": ""
    }
   },
   "outputs": [],
   "source": [
    "# Step 6: Function to create storage credentials using Managed Identity\n",
    "def create_storage_credential(credential_name, managed_identity_id):\n",
    "    # API Endpoint for creating storage credentials\n",
    "    url = f\"{DATABRICKS_INSTANCE}/api/2.1/unity-catalog/storage-credentials\"\n",
    "    \n",
    "    # JSON payload for creating storage credentials\n",
    "    payload = {\n",
    "        \"name\": credential_name,\n",
    "        \"azure_managed_identity\": {\n",
    "            \"access_connector_id\": managed_identity_id\n",
    "        },\n",
    "        \"comment\": f\"Storage credential for {credential_name} using managed identity\"\n",
    "    }\n",
    "\n",
    "    # Send request to create storage credential\n",
    "    response = requests.post(url, headers=headers, json=payload)\n",
    "\n",
    "    # Handle response\n",
    "    if response.status_code == 200:\n",
    "        print(f\"Storage credential '{credential_name}' created successfully.\")\n",
    "    else:\n",
    "        print(f\"Failed to create storage credential '{credential_name}': {response.text}\")\n",
    "\t\t"
   ]
  },
  {
   "cell_type": "code",
   "execution_count": 0,
   "metadata": {
    "application/vnd.databricks.v1+cell": {
     "cellMetadata": {
      "byteLimit": 2048000,
      "rowLimit": 10000
     },
     "inputWidgets": {},
     "nuid": "6fdf3b98-7084-488a-90a3-b18832e3dcec",
     "showTitle": false,
     "tableResultSettingsMap": {},
     "title": ""
    }
   },
   "outputs": [],
   "source": [
    "# Step 7: Loop through each set of values and create storage credentials, external locations, and Unity catalogs\n",
    "for storage_account, container_name, credential_name, location_name, catalog_name, managed_identity_id in zip(storage_accounts, container_names, credential_names, location_names, catalog_names, managed_identity_ids):\n",
    "\n",
    "    # Create storage credentials dynamically\n",
    "    create_storage_credential(credential_name, managed_identity_id)\n",
    "\n",
    "    # External Location URL\n",
    "    abfss_path = f\"abfss://{container_name}@{storage_account}.dfs.core.windows.net/\"\n",
    "\n",
    "    # Create External Location\n",
    "    query_create_location = f\"\"\"\n",
    "    CREATE EXTERNAL LOCATION {location_name} \n",
    "    URL '{abfss_path}'\n",
    "    WITH (STORAGE CREDENTIAL {credential_name})\n",
    "    COMMENT 'External data source for {container_name} in storage account {storage_account}';\n",
    "    \"\"\"\n",
    "    \n",
    "    # Create Unity Catalog\n",
    "    query_create_catalog = f\"\"\"\n",
    "    CREATE CATALOG IF NOT EXISTS {catalog_name}\n",
    "      MANAGED LOCATION '{abfss_path}';\n",
    "    \"\"\"\n",
    "\n",
    "    # Execute SQL queries for creating External Location and Catalog\n",
    "    print(f\"Executing Query: Create External Location - {location_name}\")\n",
    "    display(spark.sql(query_create_location))\n",
    "\n",
    "    print(f\"Executing Query: Create Catalog - {catalog_name}\")\n",
    "    display(spark.sql(query_create_catalog))"
   ]
  },
  {
   "cell_type": "code",
   "execution_count": 0,
   "metadata": {
    "application/vnd.databricks.v1+cell": {
     "cellMetadata": {
      "byteLimit": 2048000,
      "rowLimit": 10000
     },
     "inputWidgets": {},
     "nuid": "cc6dc42c-f074-4ed0-9844-7bfc08a5d2e3",
     "showTitle": false,
     "tableResultSettingsMap": {},
     "title": ""
    }
   },
   "outputs": [],
   "source": [
    "# Step 8: Create Bronze, Silver, and Gold schemas dynamically\n",
    "schemas = [\"bronze\", \"silver\", \"gold\"]\n",
    "\n",
    "for schema in schemas:\n",
    "    for catalog_name, container_name in zip(catalog_names, container_names):\n",
    "        query_create_schema = f\"\"\"\n",
    "        CREATE SCHEMA IF NOT EXISTS `{catalog_name}`.{schema}\n",
    "        MANAGED LOCATION 'abfss://{container_name}@{storage_accounts[0]}.dfs.core.windows.net/{schema}/';\n",
    "        \"\"\"\n",
    "        \n",
    "        print(f\"Executing Query: Create Schema - {catalog_name}.{schema}\")\n",
    "        display(spark.sql(query_create_schema))\n",
    "\n"
   ]
  },
  {
   "cell_type": "code",
   "execution_count": 0,
   "metadata": {
    "application/vnd.databricks.v1+cell": {
     "cellMetadata": {
      "byteLimit": 2048000,
      "rowLimit": 10000
     },
     "inputWidgets": {},
     "nuid": "ff2fa7a7-2266-4773-89e0-45ebcbc2ef09",
     "showTitle": false,
     "tableResultSettingsMap": {},
     "title": ""
    }
   },
   "outputs": [],
   "source": [
    "# Step 9: Create Table in the Bronze schema\n",
    "query_use_schema = f\"USE `{catalog_names[0]}`.bronze;\"\n",
    "query_create_table = f\"\"\"\n",
    "CREATE TABLE IF NOT EXISTS `{catalog_names[0]}`.bronze.test_table (\n",
    "    id INT,\n",
    "    name STRING\n",
    ") LOCATION 'abfss://{container_names[0]}@{storage_accounts[0]}.dfs.core.windows.net/bronze/test_table/';\n",
    "\"\"\"\n",
    "\n",
    "print(f\"Executing Query: USE Schema - {catalog_names[0]}.bronze\")\n",
    "display(spark.sql(query_use_schema))\n",
    "\n",
    "print(\"Executing Query: Create Table - test_table in Bronze Schema\")\n",
    "display(spark.sql(query_create_table))\n"
   ]
  },
  {
   "cell_type": "code",
   "execution_count": 0,
   "metadata": {
    "application/vnd.databricks.v1+cell": {
     "cellMetadata": {},
     "inputWidgets": {},
     "nuid": "b4023d04-ffa8-425d-991a-2600f3ca6256",
     "showTitle": false,
     "tableResultSettingsMap": {},
     "title": ""
    }
   },
   "outputs": [],
   "source": []
  },
  {
   "cell_type": "code",
   "execution_count": 0,
   "metadata": {
    "application/vnd.databricks.v1+cell": {
     "cellMetadata": {},
     "inputWidgets": {},
     "nuid": "15fcca52-c807-4c44-8c58-1b04d93b1661",
     "showTitle": false,
     "tableResultSettingsMap": {},
     "title": ""
    }
   },
   "outputs": [],
   "source": []
  },
  {
   "cell_type": "code",
   "execution_count": 0,
   "metadata": {
    "application/vnd.databricks.v1+cell": {
     "cellMetadata": {},
     "inputWidgets": {},
     "nuid": "2f3db78a-12ae-47e9-b93d-0a3f35bd453a",
     "showTitle": false,
     "tableResultSettingsMap": {},
     "title": ""
    }
   },
   "outputs": [],
   "source": [
    "%sql\n",
    "CREATE GROUP test WITH USER `abc@gmail.com`;"
   ]
  },
  {
   "cell_type": "code",
   "execution_count": 0,
   "metadata": {
    "application/vnd.databricks.v1+cell": {
     "cellMetadata": {},
     "inputWidgets": {},
     "nuid": "a589a002-a62f-4fd3-b9ce-d17b52045b28",
     "showTitle": false,
     "tableResultSettingsMap": {},
     "title": ""
    }
   },
   "outputs": [],
   "source": [
    "%sql\n",
    "-- Add the user to the group\n",
    "ALTER GROUP test ADD USER `xyz@gmail.com`;"
   ]
  },
  {
   "cell_type": "code",
   "execution_count": 0,
   "metadata": {
    "application/vnd.databricks.v1+cell": {
     "cellMetadata": {},
     "inputWidgets": {},
     "nuid": "e3ad7a3a-5850-46e6-878d-0dcde271353e",
     "showTitle": false,
     "tableResultSettingsMap": {},
     "title": ""
    }
   },
   "outputs": [],
   "source": [
    "%sql\n",
    "GRANT USE CATALOG ON CATALOG mycatalog1 TO test;"
   ]
  },
  {
   "cell_type": "code",
   "execution_count": 0,
   "metadata": {
    "application/vnd.databricks.v1+cell": {
     "cellMetadata": {},
     "inputWidgets": {},
     "nuid": "dd7ecb9e-2063-48b6-8360-bc7933667666",
     "showTitle": false,
     "tableResultSettingsMap": {},
     "title": ""
    }
   },
   "outputs": [],
   "source": [
    "%sql\n",
    "GRANT USE CATALOG,USE SCHEMA ON CATALOG mycatalog TO test;"
   ]
  },
  {
   "cell_type": "code",
   "execution_count": 0,
   "metadata": {
    "application/vnd.databricks.v1+cell": {
     "cellMetadata": {},
     "inputWidgets": {},
     "nuid": "090033ba-a12b-4f6f-bde2-8c0206eef94d",
     "showTitle": false,
     "tableResultSettingsMap": {},
     "title": ""
    }
   },
   "outputs": [],
   "source": [
    "%sql\n",
    "REVOKE USE SCHEMA ON CATALOG mycatalog FROM test;"
   ]
  },
  {
   "cell_type": "code",
   "execution_count": 0,
   "metadata": {
    "application/vnd.databricks.v1+cell": {
     "cellMetadata": {},
     "inputWidgets": {},
     "nuid": "9433efd9-308a-4d2c-a623-e1db5ed6eb5c",
     "showTitle": false,
     "tableResultSettingsMap": {},
     "title": ""
    }
   },
   "outputs": [],
   "source": [
    "%sql\n",
    "--Read operations:\n",
    "GRANT BROWSE, EXECUTE, READ VOLUME ON CATALOG mycatalog TO test1;"
   ]
  },
  {
   "cell_type": "code",
   "execution_count": 0,
   "metadata": {
    "application/vnd.databricks.v1+cell": {
     "cellMetadata": {},
     "inputWidgets": {},
     "nuid": "66a1cf00-ece0-4ef9-82aa-926105ddd70f",
     "showTitle": false,
     "tableResultSettingsMap": {},
     "title": ""
    }
   },
   "outputs": [],
   "source": [
    "%sql\n",
    "--Read and Edit operations:\n",
    "GRANT MODIFY, REFRESH, WRITE VOLUME ON CATALOG mycatalog TO test2;"
   ]
  },
  {
   "cell_type": "code",
   "execution_count": 0,
   "metadata": {
    "application/vnd.databricks.v1+cell": {
     "cellMetadata": {},
     "inputWidgets": {},
     "nuid": "4ef1c36f-59dc-4fa1-a8b1-d832761e0c9c",
     "showTitle": false,
     "tableResultSettingsMap": {},
     "title": ""
    }
   },
   "outputs": [],
   "source": []
  },
  {
   "cell_type": "code",
   "execution_count": 0,
   "metadata": {
    "application/vnd.databricks.v1+cell": {
     "cellMetadata": {},
     "inputWidgets": {},
     "nuid": "4ed32f59-ad66-4cf3-b7ed-56c0de61b2c7",
     "showTitle": false,
     "tableResultSettingsMap": {},
     "title": ""
    }
   },
   "outputs": [],
   "source": [
    "dbutils.widgets.removeAll()"
   ]
  }
 ],
 "metadata": {
  "application/vnd.databricks.v1+notebook": {
   "computePreferences": null,
   "dashboards": [],
   "environmentMetadata": {
    "base_environment": "",
    "environment_version": "2"
   },
   "language": "python",
   "notebookMetadata": {
    "mostRecentlyExecutedCommandWithImplicitDF": {
     "commandId": 5734672515243727,
     "dataframes": [
      "_sqldf"
     ]
    },
    "pythonIndentUnit": 4
   },
   "notebookName": "TestNB1",
   "widgets": {}
  },
  "language_info": {
   "name": "python"
  }
 },
 "nbformat": 4,
 "nbformat_minor": 0
}
